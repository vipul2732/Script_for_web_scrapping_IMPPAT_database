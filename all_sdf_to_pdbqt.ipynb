{
 "cells": [
  {
   "cell_type": "code",
   "execution_count": null,
   "metadata": {},
   "outputs": [],
   "source": [
    "conda install -c conda-forge openbabel"
   ]
  },
  {
   "cell_type": "code",
   "execution_count": null,
   "metadata": {},
   "outputs": [],
   "source": [
    "import openbabel\n",
    "import os"
   ]
  },
  {
   "cell_type": "code",
   "execution_count": null,
   "metadata": {},
   "outputs": [],
   "source": [
    "folder_path = \"D:\\Ph.D_projects\\projects_after_plan_of_work\\corona\\Ligands\""
   ]
  },
  {
   "cell_type": "code",
   "execution_count": null,
   "metadata": {},
   "outputs": [],
   "source": [
    "# Loop through all the SDF files in the folder\n",
    "for filename in os.listdir(folder_path):\n",
    "    if filename.endswith(\".sdf\"):\n",
    "        # Load the SDF file\n",
    "        sdf_file = os.path.join(folder_path, filename)\n",
    "        obConversion = openbabel.OBConversion()\n",
    "        obConversion.SetInFormat(\"sdf\")\n",
    "        mol = openbabel.OBMol()\n",
    "        obConversion.ReadFile(mol, sdf_file)\n",
    "        \n",
    "        # Write the molecule to a PDBQT file\n",
    "        pdbqt_file = os.path.join(folder_path, os.path.splitext(filename)[0] + \".pdbqt\")\n",
    "        obConversion.SetOutFormat(\"pdbqt\")\n",
    "        obConversion.WriteFile(mol, pdbqt_file)\n"
   ]
  },
  {
   "cell_type": "code",
   "execution_count": null,
   "metadata": {},
   "outputs": [],
   "source": []
  }
 ],
 "metadata": {
  "kernelspec": {
   "display_name": "Python 3",
   "language": "python",
   "name": "python3"
  },
  "language_info": {
   "codemirror_mode": {
    "name": "ipython",
    "version": 3
   },
   "file_extension": ".py",
   "mimetype": "text/x-python",
   "name": "python",
   "nbconvert_exporter": "python",
   "pygments_lexer": "ipython3",
   "version": "3.7.4"
  }
 },
 "nbformat": 4,
 "nbformat_minor": 2
}
