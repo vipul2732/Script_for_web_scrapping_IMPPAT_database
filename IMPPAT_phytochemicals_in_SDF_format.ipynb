{
 "cells": [
  {
   "cell_type": "code",
   "execution_count": null,
   "metadata": {},
   "outputs": [],
   "source": [
    "#pip install lxml\n",
    "from requests import get\n",
    "from bs4 import BeautifulSoup\n",
    "\n",
    "page = get(\"https://cb.imsc.res.in/imppat/\")\n",
    "soup = BeautifulSoup(page.text,\"lxml\")\n",
    "options = soup.find(\"select\",{\"class\":\"homeselect form-control\"}).findAll(\"option\")\n",
    "\n",
    "data =[]\n",
    "for i in options:\n",
    "    name = i.text\n",
    "    link = i[\"value\"];\n",
    "    data.append(name)\n",
    "#print the data of medicinal plants\n",
    "#print(data)\n",
    "#Phytochemical list\n",
    "import pandas as pd\n",
    "import io\n",
    "#url = \"https://cb.imsc.res.in/imppat/\"\n",
    "#data=['Choose from dropdown', 'Abelmoschus esculentus', 'Abelmoschus ficulneus', 'Abelmoschus manihot',]\n",
    "df2=pd.DataFrame()\n",
    "df1=pd.DataFrame()\n",
    "for pname in data:\n",
    "    pname=pname.replace(' ','%20')\n",
    "    print (pname)\n",
    "    url = 'https://cb.imsc.res.in/imppat/phytochemical/'+ pname\n",
    "    print(url)\n",
    "    print(df1)\n",
    "    df1 = pd.read_html(url)\n",
    "    df2=df2.append(df1)\n",
    "#print(df2)\n",
    "df2.to_csv(\"imppat.csv\")"
   ]
  },
  {
   "cell_type": "code",
   "execution_count": null,
   "metadata": {},
   "outputs": [],
   "source": [
    "import pandas as pd"
   ]
  },
  {
   "cell_type": "code",
   "execution_count": null,
   "metadata": {},
   "outputs": [],
   "source": [
    "df = pd.read_csv(\"imppat.csv\")"
   ]
  },
  {
   "cell_type": "code",
   "execution_count": null,
   "metadata": {},
   "outputs": [],
   "source": [
    "df"
   ]
  },
  {
   "cell_type": "code",
   "execution_count": null,
   "metadata": {},
   "outputs": [],
   "source": [
    "df1 = df['Phytochemical name']"
   ]
  },
  {
   "cell_type": "code",
   "execution_count": null,
   "metadata": {},
   "outputs": [],
   "source": [
    "df1"
   ]
  },
  {
   "cell_type": "code",
   "execution_count": null,
   "metadata": {},
   "outputs": [],
   "source": [
    "df1.to_excel('phytochemicals.xlsx')"
   ]
  },
  {
   "cell_type": "code",
   "execution_count": null,
   "metadata": {},
   "outputs": [],
   "source": [
    "import openpyxl\n",
    "import requests\n",
    "import io\n",
    "\n",
    "# Load the Excel sheet\n",
    "wb = openpyxl.load_workbook('phytochemicals.xlsx')\n",
    "sheet = wb.active\n",
    "\n",
    "# Iterate over the rows in the sheet\n",
    "for row in sheet.iter_rows():\n",
    "    # Get the compound name from the first cell in the row\n",
    "    compound_name = row[0].value\n",
    "    \n",
    "    # Search for the compound in PubChem\n",
    "    search_url = f'https://pubchem.ncbi.nlm.nih.gov/rest/pug/compound/name/{compound_name}/SDF'\n",
    "    search_response = requests.get(search_url)\n",
    "    \n",
    "    # If the search was successful, download the SDF file\n",
    "    if search_response.status_code == 200:\n",
    "        sdf_file = io.StringIO(search_response.text)\n",
    "        \n",
    "        # Save the SDF file to disk\n",
    "        with open(f'{compound_name}.sdf', 'w') as f:\n",
    "            f.write(sdf_file.getvalue())\n",
    "    \n",
    "    # If the search was not successful, print an error message\n",
    "    else:\n",
    "        print(f'Failed to download SDF for {compound_name}')\n"
   ]
  },
  {
   "cell_type": "code",
   "execution_count": null,
   "metadata": {},
   "outputs": [],
   "source": []
  }
 ],
 "metadata": {
  "kernelspec": {
   "display_name": "Python 3",
   "language": "python",
   "name": "python3"
  },
  "language_info": {
   "codemirror_mode": {
    "name": "ipython",
    "version": 3
   },
   "file_extension": ".py",
   "mimetype": "text/x-python",
   "name": "python",
   "nbconvert_exporter": "python",
   "pygments_lexer": "ipython3",
   "version": "3.7.4"
  }
 },
 "nbformat": 4,
 "nbformat_minor": 2
}
